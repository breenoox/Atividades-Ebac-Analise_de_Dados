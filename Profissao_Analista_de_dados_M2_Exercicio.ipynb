{
  "nbformat": 4,
  "nbformat_minor": 0,
  "metadata": {
    "colab": {
      "provenance": [],
      "toc_visible": true,
      "include_colab_link": true
    },
    "kernelspec": {
      "name": "python3",
      "display_name": "Python 3"
    }
  },
  "cells": [
    {
      "cell_type": "markdown",
      "metadata": {
        "id": "view-in-github",
        "colab_type": "text"
      },
      "source": [
        "<a href=\"https://colab.research.google.com/github/breenoox/Atividades-Ebac-Analise_de_Dados/blob/main/Profissao_Analista_de_dados_M2_Exercicio.ipynb\" target=\"_parent\"><img src=\"https://colab.research.google.com/assets/colab-badge.svg\" alt=\"Open In Colab\"/></a>"
      ]
    },
    {
      "cell_type": "markdown",
      "metadata": {
        "id": "KJqp9AANOCtf"
      },
      "source": [
        "<img src=\"https://raw.githubusercontent.com/andre-marcos-perez/ebac-course-utils/main/media/logo/newebac_logo_black_half.png\" alt=\"ebac-logo\">\n",
        "\n",
        "---\n",
        "\n",
        "# **Módulo** | Python: Estruturas de Dados\n",
        "Caderno de **Exercícios**<br>\n",
        "Professor [André Perez](https://www.linkedin.com/in/andremarcosperez/)\n",
        "\n",
        "---"
      ]
    },
    {
      "cell_type": "markdown",
      "metadata": {
        "id": "d9jDtUbDOE1-"
      },
      "source": [
        "# **Tópicos**\n",
        "\n",
        "<ol type=\"1\">\n",
        "  <li>Listas;</li>\n",
        "  <li>Conjuntos;</li>\n",
        "  <li>Dicionários.</li>\n",
        "</ol>"
      ]
    },
    {
      "cell_type": "markdown",
      "metadata": {
        "id": "SmoHgt-lwkpD"
      },
      "source": [
        "---"
      ]
    },
    {
      "cell_type": "markdown",
      "metadata": {
        "id": "GABI6OW8OfQ2"
      },
      "source": [
        "# **Exercícios**"
      ]
    },
    {
      "cell_type": "markdown",
      "metadata": {
        "id": "muD1vxozykSC"
      },
      "source": [
        "## 1\\. Listas"
      ]
    },
    {
      "cell_type": "markdown",
      "metadata": {
        "id": "ahrFfCuBxJKs"
      },
      "source": [
        "Criei uma lista chamada `filmes` com o nome dos 10 primeiros filmes mais bem avaliados no site no [IMDB](https://www.imdb.com/chart/top/). Imprima o resultado."
      ]
    },
    {
      "cell_type": "code",
      "metadata": {
        "id": "OgL6Hv3bzOHI",
        "colab": {
          "base_uri": "https://localhost:8080/"
        },
        "outputId": "27169b09-fdc3-4c8d-e1df-cbbf1bf2ef48"
      },
      "source": [
        "filmes = ['Um Sonho de Liberdade', '12th Fail', 'O Poderoso Chefão', 'Batman - O Cavaleiro das Trevas', 'O Senhor dos Anéis: O Retorno do Rei', 'A Lista de Schindler', 'O Poderoso Chefão II', '12 Homens e uma Sentença', 'O Senhor dos Anéis: A Sociedade do Anel', 'Pulp Fiction - Tempo de Violência']\n",
        "\n",
        "print(filmes)\n",
        "print(len(filmes))\n",
        "print(type(filmes))"
      ],
      "execution_count": null,
      "outputs": [
        {
          "output_type": "stream",
          "name": "stdout",
          "text": [
            "['Um Sonho de Liberdade', '12th Fail', 'O Poderoso Chefão', 'Batman - O Cavaleiro das Trevas', 'O Senhor dos Anéis: O Retorno do Rei', 'A Lista de Schindler', 'O Poderoso Chefão II', '12 Homens e uma Sentença', 'O Senhor dos Anéis: A Sociedade do Anel', 'Pulp Fiction - Tempo de Violência']\n",
            "10\n",
            "<class 'list'>\n"
          ]
        }
      ]
    },
    {
      "cell_type": "markdown",
      "metadata": {
        "id": "KI9zQRT2xa7m"
      },
      "source": [
        "Simule a movimentação do *ranking*. Utilize os métodos `insert` e `pop` para trocar a posição do primeiro e do segundo filme da lista. Imprima o resultado.\n",
        "\n"
      ]
    },
    {
      "cell_type": "code",
      "metadata": {
        "id": "zX3mA3_GzrXH",
        "colab": {
          "base_uri": "https://localhost:8080/"
        },
        "outputId": "8f1b3a48-91e0-4d97-b7c0-46fa398e2fce"
      },
      "source": [
        "segundo_filme = filmes.pop(1)\n",
        "filmes.insert(0, segundo_filme)\n",
        "print(filmes)"
      ],
      "execution_count": null,
      "outputs": [
        {
          "output_type": "stream",
          "name": "stdout",
          "text": [
            "['12th Fail', 'Um Sonho de Liberdade', 'O Poderoso Chefão', 'Batman - O Cavaleiro das Trevas', 'O Senhor dos Anéis: O Retorno do Rei', 'A Lista de Schindler', 'O Poderoso Chefão II', '12 Homens e uma Sentença', 'O Senhor dos Anéis: A Sociedade do Anel', 'Pulp Fiction - Tempo de Violência']\n"
          ]
        }
      ]
    },
    {
      "cell_type": "markdown",
      "metadata": {
        "id": "zMN1Q3jdwoJm"
      },
      "source": [
        "---"
      ]
    },
    {
      "cell_type": "markdown",
      "metadata": {
        "id": "lxa5L6uF0ZJE"
      },
      "source": [
        "## 2\\. Conjuntos"
      ]
    },
    {
      "cell_type": "markdown",
      "metadata": {
        "id": "9JahS2Kj0d5u"
      },
      "source": [
        "Aconteceu um erro no seu *ranking*. Simule a duplicação dos três últimos filmes da lista. Imprima o resultado."
      ]
    },
    {
      "cell_type": "code",
      "metadata": {
        "id": "BnjnLBNC6PGe",
        "colab": {
          "base_uri": "https://localhost:8080/"
        },
        "outputId": "535aead5-ff6a-40c1-c63f-3c56ce96ed2d"
      },
      "source": [
        "filmes.append('Pulp Fiction - Tempo de Violência')\n",
        "print(filmes)\n",
        "print(len(filmes))"
      ],
      "execution_count": null,
      "outputs": [
        {
          "output_type": "stream",
          "name": "stdout",
          "text": [
            "['Um Sonho de Liberdade', 'O Senhor dos Anéis: O Retorno do Rei', 'Pulp Fiction - Tempo de Violência', 'O Senhor dos Anéis: A Sociedade do Anel', '12 Homens e uma Sentença', '12th Fail', 'O Poderoso Chefão', 'A Lista de Schindler', 'O Poderoso Chefão II', 'Batman - O Cavaleiro das Trevas', 'Pulp Fiction - Tempo de Violência', 'Pulp Fiction - Tempo de Violência', 'Pulp Fiction - Tempo de Violência']\n",
            "13\n"
          ]
        }
      ]
    },
    {
      "cell_type": "markdown",
      "metadata": {
        "id": "suxTfCJB6ZiX"
      },
      "source": [
        "Utiliza a conversão `set` e `list` para remover os valores duplicados. Imprima o resultado."
      ]
    },
    {
      "cell_type": "code",
      "metadata": {
        "id": "ZvUGN-0n6joM",
        "colab": {
          "base_uri": "https://localhost:8080/"
        },
        "outputId": "8f94b016-b66f-4402-888c-870af3f422a5"
      },
      "source": [
        "print(filmes)\n",
        "print(len(filmes))\n",
        "\n",
        "print()\n",
        "\n",
        "filmes = list(set(filmes))\n",
        "print(filmes)\n",
        "print(len(filmes))"
      ],
      "execution_count": null,
      "outputs": [
        {
          "output_type": "stream",
          "name": "stdout",
          "text": [
            "['Um Sonho de Liberdade', 'O Senhor dos Anéis: O Retorno do Rei', 'Pulp Fiction - Tempo de Violência', 'O Senhor dos Anéis: A Sociedade do Anel', '12 Homens e uma Sentença', '12th Fail', 'O Poderoso Chefão', 'A Lista de Schindler', 'O Poderoso Chefão II', 'Batman - O Cavaleiro das Trevas', 'Pulp Fiction - Tempo de Violência', 'Pulp Fiction - Tempo de Violência', 'Pulp Fiction - Tempo de Violência']\n",
            "13\n",
            "\n",
            "['Um Sonho de Liberdade', 'O Senhor dos Anéis: O Retorno do Rei', 'Pulp Fiction - Tempo de Violência', 'O Senhor dos Anéis: A Sociedade do Anel', '12 Homens e uma Sentença', '12th Fail', 'O Poderoso Chefão', 'A Lista de Schindler', 'O Poderoso Chefão II', 'Batman - O Cavaleiro das Trevas']\n",
            "10\n"
          ]
        }
      ]
    },
    {
      "cell_type": "markdown",
      "metadata": {
        "id": "ShkK35eQ6pAM"
      },
      "source": [
        "---"
      ]
    },
    {
      "cell_type": "markdown",
      "metadata": {
        "id": "EL_FzmxL6rTv"
      },
      "source": [
        "## 3\\. Dicionários"
      ]
    },
    {
      "cell_type": "markdown",
      "metadata": {
        "id": "i8l0gFqRCpfT"
      },
      "source": [
        "Repita os exercícios da parte 1 (listas). Os elementos da lista `filmes` devem ser dicionários no seguinte formato: `{'nome': <nome-do-filme>, 'ano': <ano do filme>, 'sinopse': <sinopse do filme>}`."
      ]
    },
    {
      "cell_type": "code",
      "metadata": {
        "id": "tu6MSFwGDnHv",
        "colab": {
          "base_uri": "https://localhost:8080/"
        },
        "outputId": "d1f6839d-0438-4913-928c-4cb14431a6d6"
      },
      "source": [
        "filmes = []\n",
        "\n",
        "filme_1 = {\n",
        "    'nome': 'Um Sonho de Liberdade',\n",
        "    'ano': 1994,\n",
        "    'sinopse': 'Dois homens presos se reúnem ao longo de vários anos, encontrando consolo e eventual redenção através de atos de decência comum.'\n",
        "}\n",
        "filmes.append(filme_1)\n",
        "\n",
        "filme_2 = {\n",
        "    'nome': '12th Fail',\n",
        "    'ano': 2023,\n",
        "    'sinopse': 'A história da vida real do oficial do IPS Manoj Kumar Sharma e do oficial do IRS Shraddha Joshi.'\n",
        "}\n",
        "filmes.append(filme_2)\n",
        "\n",
        "filme_3 = {\n",
        "    'nome': 'O Poderoso Chefão',\n",
        "    'ano': 1972,\n",
        "    'sinopse': 'O patriarca idoso de uma dinastia do crime organizado transfere o controle de seu império clandestino para seu filho relutante.'\n",
        "}\n",
        "filmes.append(filme_3)\n",
        "\n",
        "filme_4 = {\n",
        "    'nome': 'Batman - O Cavaleiro das Trevas',\n",
        "    'ano': 2008,\n",
        "    'sinopse': 'Agora com a ajuda do tenente Jim Gordon e do promotor público Harvey Dent, Batman tem tudo para banir o crime de Gotham City de uma vez por todas. Mas em breve, os três serão vítimas do Coringa, que pretende lançar Gotham em uma anarquia.'\n",
        "}\n",
        "filmes.append(filme_4)\n",
        "\n",
        "filme_5 = {\n",
        "    'nome': 'O Senhor dos Anéis: O Retorno do Rei',\n",
        "    'ano': 2003,\n",
        "    'sinopse': 'Gandalf e Aragorn lideram o Mundo dos Homens contra o exército de Sauron para desviar o olhar de Frodo e Sam quando eles se aproximam á Montanha da Perdição com o Um Anel.'\n",
        "}\n",
        "filmes.append(filme_5)\n",
        "\n",
        "filme_6 = {\n",
        "    'nome': 'A Lista de Schindler',\n",
        "    'ano': 1993,\n",
        "    'sinopse': 'Na Polônia ocupada pelos alemães durante a Segunda Guerra Mundial, o industrial Oskar Schindler começa a ser preocupar com seus trabalhadores judeus depois de testemunhar sua perseguição pelos nazistas.'\n",
        "}\n",
        "filmes.append(filme_6)\n",
        "\n",
        "filme_7 = {\n",
        "    'nome': 'O Poderoso Chefão II',\n",
        "    'ano': 1974,\n",
        "    'sinopse': 'Em 1950, Michael Corleone, agora à frente da família, tenta expandir o negócio do crime a Las Vegas, Los Angeles e Cuba. Paralelamente, é revelada a história de Vito Corleone, e de como saiu da Sicília e chegou a Nova Iorque.'\n",
        "}\n",
        "filmes.append(filme_7)\n",
        "\n",
        "filme_8 = {\n",
        "    'nome': '12 Homens e uma Sentença',\n",
        "    'ano': 1957,\n",
        "    'sinopse': 'O julgamento de um assassinato em Nova Iorque é frustrado por um único membro, cujo ceticismo força o júri a considerar cuidadosamente as evidências antes de dar o veredito.'\n",
        "}\n",
        "filmes.append(filme_8)\n",
        "\n",
        "filme_9 = {\n",
        "    'nome': 'O Senhor dos Anéis: A Sociedade do Anel',\n",
        "    'ano': 2001,\n",
        "    'sinopse': 'Um manso hobbit do Condado e oito companheiros partem em uma jornada para destruir o poderoso Um Anel e salvar a Terra-média das Trevas.'\n",
        "}\n",
        "filmes.append(filme_9)\n",
        "\n",
        "filme_10 = {\n",
        "    'nome': 'Pulp Fiction - Tempo de Violência',\n",
        "    'ano': 1994,\n",
        "    'sinopse': 'As vidas de dois assassinos da máfia, um boxeador, um gângster e sua esposa, e um par de bandidos se entrelaçam em quatro histórias de violência e redenção.'\n",
        "}\n",
        "filmes.append(filme_10)\n",
        "\n",
        "print(filmes)"
      ],
      "execution_count": null,
      "outputs": [
        {
          "output_type": "stream",
          "name": "stdout",
          "text": [
            "[{'nome': 'Um Sonho de Liberdade', 'ano': 1994, 'sinopse': 'Dois homens presos se reúnem ao longo de vários anos, encontrando consolo e eventual redenção através de atos de decência comum.'}, {'nome': '12th Fail', 'ano': 2023, 'sinopse': 'A história da vida real do oficial do IPS Manoj Kumar Sharma e do oficial do IRS Shraddha Joshi.'}, {'nome': 'O Poderoso Chefão', 'ano': 1972, 'sinopse': 'O patriarca idoso de uma dinastia do crime organizado transfere o controle de seu império clandestino para seu filho relutante.'}, {'nome': 'Batman - O Cavaleiro das Trevas', 'ano': 2008, 'sinopse': 'Agora com a ajuda do tenente Jim Gordon e do promotor público Harvey Dent, Batman tem tudo para banir o crime de Gotham City de uma vez por todas. Mas em breve, os três serão vítimas do Coringa, que pretende lançar Gotham em uma anarquia.'}, {'nome': 'O Senhor dos Anéis: O Retorno do Rei', 'ano': 2003, 'sinopse': 'Gandalf e Aragorn lideram o Mundo dos Homens contra o exército de Sauron para desviar o olhar de Frodo e Sam quando eles se aproximam á Montanha da Perdição com o Um Anel.'}, {'nome': 'A Lista de Schindler', 'ano': 1993, 'sinopse': 'Na Polônia ocupada pelos alemães durante a Segunda Guerra Mundial, o industrial Oskar Schindler começa a ser preocupar com seus trabalhadores judeus depois de testemunhar sua perseguição pelos nazistas.'}, {'nome': 'O Poderoso Chefão II', 'ano': 1974, 'sinopse': 'Em 1950, Michael Corleone, agora à frente da família, tenta expandir o negócio do crime a Las Vegas, Los Angeles e Cuba. Paralelamente, é revelada a história de Vito Corleone, e de como saiu da Sicília e chegou a Nova Iorque.'}, {'nome': '12 Homens e uma Sentença', 'ano': 1957, 'sinopse': 'O julgamento de um assassinato em Nova Iorque é frustrado por um único membro, cujo ceticismo força o júri a considerar cuidadosamente as evidências antes de dar o veredito.'}, {'nome': 'O Senhor dos Anéis: A Sociedade do Anel', 'ano': 2001, 'sinopse': 'Um manso hobbit do Condado e oito companheiros partem em uma jornada para destruir o poderoso Um Anel e salvar a Terra-média das Trevas.'}, {'nome': 'Pulp Fiction - Tempo de Violência', 'ano': 1994, 'sinopse': 'As vidas de dois assassinos da máfia, um boxeador, um gângster e sua esposa, e um par de bandidos se entrelaçam em quatro histórias de violência e redenção.'}]\n"
          ]
        }
      ]
    }
  ]
}